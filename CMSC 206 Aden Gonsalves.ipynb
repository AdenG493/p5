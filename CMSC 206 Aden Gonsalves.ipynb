{
 "cells": [
  {
   "cell_type": "code",
   "execution_count": null,
   "id": "f86db02b-d15b-4ab3-babf-9c38a6066f97",
   "metadata": {},
   "outputs": [],
   "source": [
    "import pandas as pd\n",
    "\n",
    "\n",
    "def kml_builder(place,mag,latitude,longitude,time):\n",
    "    return f'''\n",
    "    <Placemark>\n",
    "        <name>{place}</name>\n",
    "        <description>\n",
    "            &lt;h1&gt;{mag} Magnitude earthquake at {time}&lt;/h1&gt;\n",
    "        </description>\n",
    "        <Point>\n",
    "            <coordinates>{latitude},{longitude}</coordinates>\n",
    "        </Point>\n",
    "    </Placemark>\n",
    "    '''\n",
    "\n",
    "\n",
    "\n",
    "url = 'https://earthquake.usgs.gov/earthquakes/feed/v1.0/summary/all_day.csv'\n",
    "\n",
    "\n",
    "df = pd.read_csv(url)\n",
    "\n",
    "kml = '''<?xml version=\"1.0\" encoding=\"UTF-8\"?>\n",
    "<kml xmlns=\"http://www.opengis.net/kml/2.2\">\n",
    "    <Document>\n",
    "'''\n",
    "\n",
    "\n",
    "for index, row in df.iterrows():\n",
    "    kml += kml_builder(row['place'],row['mag'],row['longitude'],row['latitude'],row['time'])\n",
    "\n",
    "kml += '''\n",
    "    </Document>\n",
    "</kml>\n",
    "'''\n",
    "\n",
    "# Write the KML to a file\n",
    "with open('earthquakes.kml', 'w') as file:\n",
    "    file.write(kml.strip())  \n"
   ]
  }
 ],
 "metadata": {
  "kernelspec": {
   "display_name": "Python 3 (ipykernel)",
   "language": "python",
   "name": "python3"
  },
  "language_info": {
   "codemirror_mode": {
    "name": "ipython",
    "version": 3
   },
   "file_extension": ".py",
   "mimetype": "text/x-python",
   "name": "python",
   "nbconvert_exporter": "python",
   "pygments_lexer": "ipython3",
   "version": "3.12.1"
  }
 },
 "nbformat": 4,
 "nbformat_minor": 5
}
